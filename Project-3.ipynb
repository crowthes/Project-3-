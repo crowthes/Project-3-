{
 "cells": [
  {
   "cell_type": "code",
   "execution_count": 2,
   "metadata": {},
   "outputs": [],
   "source": [
    "import pandas as pd\n",
    "\n",
    "import glob\n",
    "import os\n",
    "\n",
    "path = r'path'\n",
    "\n",
    "\n",
    "all_files = glob.glob(os.path.join(path, \"*.csv\"))\n",
    "\n",
    "df = pd.concat((pd.read_csv(f) for f in all_files), ignore_index=True)"
   ]
  },
  {
   "cell_type": "code",
   "execution_count": 3,
   "metadata": {},
   "outputs": [],
   "source": [
    "#converting the object data type columns to datetime\n",
    "df['started_at'] = pd.to_datetime(df['started_at'])\n",
    "df['ended_at'] = pd.to_datetime(df['ended_at'])"
   ]
  },
  {
   "cell_type": "code",
   "execution_count": 4,
   "metadata": {},
   "outputs": [],
   "source": [
    "#Ride duration of each ride\n",
    "df['ride_duration'] =  df['ended_at'] - df['started_at']"
   ]
  },
  {
   "cell_type": "code",
   "execution_count": 5,
   "metadata": {},
   "outputs": [
    {
     "data": {
      "text/plain": [
       "electric_bike    948049\n",
       "Name: rideable_type, dtype: int64"
      ]
     },
     "execution_count": 5,
     "metadata": {},
     "output_type": "execute_result"
    }
   ],
   "source": [
    "#selecting the data only with null values and counting\n",
    "start_station_name_na_data = df.loc[df['start_station_name'].isnull()]\n",
    "start_station_name_na_data.rideable_type.value_counts()"
   ]
  },
  {
   "cell_type": "code",
   "execution_count": 6,
   "metadata": {},
   "outputs": [
    {
     "data": {
      "text/plain": [
       "electric_bike    948046\n",
       "Name: rideable_type, dtype: int64"
      ]
     },
     "execution_count": 6,
     "metadata": {},
     "output_type": "execute_result"
    }
   ],
   "source": [
    "#selecting the data only with null values and counting\n",
    "start_station_id_na_data = df.loc[df['start_station_id'].isnull()]\n",
    "start_station_id_na_data.rideable_type.value_counts()"
   ]
  },
  {
   "cell_type": "code",
   "execution_count": 7,
   "metadata": {},
   "outputs": [
    {
     "data": {
      "text/plain": [
       "classic_bike     3562550\n",
       "electric_bike    2876897\n",
       "docked_bike       284426\n",
       "Name: rideable_type, dtype: int64"
      ]
     },
     "execution_count": 7,
     "metadata": {},
     "output_type": "execute_result"
    }
   ],
   "source": [
    "#What are the other types of these bikes in the dataset?\n",
    "df.rideable_type.value_counts()"
   ]
  },
  {
   "cell_type": "code",
   "execution_count": 8,
   "metadata": {},
   "outputs": [
    {
     "data": {
      "text/plain": [
       "classic_bike     3562550\n",
       "electric_bike    2876897\n",
       "docked_bike       284426\n",
       "Name: rideable_type, dtype: int64"
      ]
     },
     "execution_count": 8,
     "metadata": {},
     "output_type": "execute_result"
    }
   ],
   "source": [
    "#What are the other types of these bikes in the dataset?\n",
    "df.rideable_type.value_counts()"
   ]
  },
  {
   "cell_type": "code",
   "execution_count": 9,
   "metadata": {},
   "outputs": [
    {
     "data": {
      "text/plain": [
       "count                       948049\n",
       "mean     0 days 00:14:34.093105947\n",
       "std      0 days 00:18:53.713756659\n",
       "min              -1 days +21:42:35\n",
       "25%                0 days 00:05:17\n",
       "50%                0 days 00:09:51\n",
       "75%                0 days 00:18:10\n",
       "max                0 days 08:00:31\n",
       "Name: ride_duration, dtype: object"
      ]
     },
     "execution_count": 9,
     "metadata": {},
     "output_type": "execute_result"
    }
   ],
   "source": [
    "start_station_name_na_data['ride_duration'].describe()"
   ]
  },
  {
   "cell_type": "code",
   "execution_count": 10,
   "metadata": {},
   "outputs": [
    {
     "data": {
      "text/plain": [
       "count                       948046\n",
       "mean     0 days 00:14:34.093418462\n",
       "std      0 days 00:18:53.714942534\n",
       "min              -1 days +21:42:35\n",
       "25%                0 days 00:05:17\n",
       "50%                0 days 00:09:51\n",
       "75%                0 days 00:18:10\n",
       "max                0 days 08:00:31\n",
       "Name: ride_duration, dtype: object"
      ]
     },
     "execution_count": 10,
     "metadata": {},
     "output_type": "execute_result"
    }
   ],
   "source": [
    "start_station_id_na_data['ride_duration'].describe()"
   ]
  },
  {
   "cell_type": "code",
   "execution_count": 11,
   "metadata": {},
   "outputs": [
    {
     "data": {
      "text/html": [
       "<div>\n",
       "<style scoped>\n",
       "    .dataframe tbody tr th:only-of-type {\n",
       "        vertical-align: middle;\n",
       "    }\n",
       "\n",
       "    .dataframe tbody tr th {\n",
       "        vertical-align: top;\n",
       "    }\n",
       "\n",
       "    .dataframe thead th {\n",
       "        text-align: right;\n",
       "    }\n",
       "</style>\n",
       "<table border=\"1\" class=\"dataframe\">\n",
       "  <thead>\n",
       "    <tr style=\"text-align: right;\">\n",
       "      <th></th>\n",
       "      <th></th>\n",
       "      <th>count</th>\n",
       "      <th>mean</th>\n",
       "      <th>std</th>\n",
       "      <th>min</th>\n",
       "      <th>25%</th>\n",
       "      <th>50%</th>\n",
       "      <th>75%</th>\n",
       "      <th>max</th>\n",
       "    </tr>\n",
       "    <tr>\n",
       "      <th>rideable_type</th>\n",
       "      <th>member_casual</th>\n",
       "      <th></th>\n",
       "      <th></th>\n",
       "      <th></th>\n",
       "      <th></th>\n",
       "      <th></th>\n",
       "      <th></th>\n",
       "      <th></th>\n",
       "      <th></th>\n",
       "    </tr>\n",
       "  </thead>\n",
       "  <tbody>\n",
       "    <tr>\n",
       "      <th rowspan=\"2\" valign=\"top\">electric_bike</th>\n",
       "      <th>casual</th>\n",
       "      <td>416603</td>\n",
       "      <td>0 days 00:17:22.783028446</td>\n",
       "      <td>0 days 00:21:31.765066271</td>\n",
       "      <td>-1 days +21:42:35</td>\n",
       "      <td>0 days 00:06:45</td>\n",
       "      <td>0 days 00:12:07</td>\n",
       "      <td>0 days 00:21:09</td>\n",
       "      <td>0 days 08:00:31</td>\n",
       "    </tr>\n",
       "    <tr>\n",
       "      <th>member</th>\n",
       "      <td>531443</td>\n",
       "      <td>0 days 00:12:21.856099337</td>\n",
       "      <td>0 days 00:16:12.115618317</td>\n",
       "      <td>-1 days +22:02:54</td>\n",
       "      <td>0 days 00:04:32</td>\n",
       "      <td>0 days 00:08:15</td>\n",
       "      <td>0 days 00:15:38</td>\n",
       "      <td>0 days 08:00:31</td>\n",
       "    </tr>\n",
       "  </tbody>\n",
       "</table>\n",
       "</div>"
      ],
      "text/plain": [
       "                              count                      mean  \\\n",
       "rideable_type member_casual                                     \n",
       "electric_bike casual         416603 0 days 00:17:22.783028446   \n",
       "              member         531443 0 days 00:12:21.856099337   \n",
       "\n",
       "                                                  std               min  \\\n",
       "rideable_type member_casual                                               \n",
       "electric_bike casual        0 days 00:21:31.765066271 -1 days +21:42:35   \n",
       "              member        0 days 00:16:12.115618317 -1 days +22:02:54   \n",
       "\n",
       "                                        25%             50%             75%  \\\n",
       "rideable_type member_casual                                                   \n",
       "electric_bike casual        0 days 00:06:45 0 days 00:12:07 0 days 00:21:09   \n",
       "              member        0 days 00:04:32 0 days 00:08:15 0 days 00:15:38   \n",
       "\n",
       "                                        max  \n",
       "rideable_type member_casual                  \n",
       "electric_bike casual        0 days 08:00:31  \n",
       "              member        0 days 08:00:31  "
      ]
     },
     "execution_count": 11,
     "metadata": {},
     "output_type": "execute_result"
    }
   ],
   "source": [
    "start_station_id_na_data.groupby(['rideable_type','member_casual'])['ride_duration'].describe()\n"
   ]
  },
  {
   "cell_type": "markdown",
   "metadata": {},
   "source": [
    "Minimum value of ride is minus so I already caught couple of outliers of electric bikes. It is interesting that only electric bikes have this issue."
   ]
  },
  {
   "cell_type": "markdown",
   "metadata": {},
   "source": [
    "# End station null value examination"
   ]
  },
  {
   "cell_type": "code",
   "execution_count": 12,
   "metadata": {},
   "outputs": [
    {
     "data": {
      "text/plain": [
       "electric_bike    1003284\n",
       "classic_bike        7996\n",
       "docked_bike         1774\n",
       "Name: rideable_type, dtype: int64"
      ]
     },
     "execution_count": 12,
     "metadata": {},
     "output_type": "execute_result"
    }
   ],
   "source": [
    "end_station_name_na_data = df.loc[df['end_station_name'].isnull()]\n",
    "end_station_name_na_data.rideable_type.value_counts()"
   ]
  },
  {
   "cell_type": "markdown",
   "metadata": {},
   "source": [
    "Bike types have saturated when I search for rides where there is no end station data. So maybe some bike may have not been returned at all."
   ]
  },
  {
   "cell_type": "code",
   "execution_count": 13,
   "metadata": {},
   "outputs": [
    {
     "data": {
      "text/plain": [
       "Series([], Name: rideable_type, dtype: int64)"
      ]
     },
     "execution_count": 13,
     "metadata": {},
     "output_type": "execute_result"
    }
   ],
   "source": [
    "ride_duration_na_data = df.loc[df['ride_duration'].isnull()]\n",
    "ride_duration_na_data.rideable_type.value_counts()"
   ]
  },
  {
   "cell_type": "markdown",
   "metadata": {},
   "source": [
    "Hmm.. no data at all so I assume those bikes have been returned but no data is generated about the station. For the electric bikes maybe it is the case but how about classic or docked bikes?"
   ]
  },
  {
   "cell_type": "code",
   "execution_count": 14,
   "metadata": {},
   "outputs": [
    {
     "data": {
      "text/plain": [
       "electric_bike    1003284\n",
       "classic_bike        7996\n",
       "docked_bike         1774\n",
       "Name: rideable_type, dtype: int64"
      ]
     },
     "execution_count": 14,
     "metadata": {},
     "output_type": "execute_result"
    }
   ],
   "source": [
    "end_station_id_na_data = df.loc[df['end_station_id'].isnull()]\n",
    "end_station_id_na_data.rideable_type.value_counts()"
   ]
  },
  {
   "cell_type": "code",
   "execution_count": 15,
   "metadata": {},
   "outputs": [
    {
     "data": {
      "text/html": [
       "<div>\n",
       "<style scoped>\n",
       "    .dataframe tbody tr th:only-of-type {\n",
       "        vertical-align: middle;\n",
       "    }\n",
       "\n",
       "    .dataframe tbody tr th {\n",
       "        vertical-align: top;\n",
       "    }\n",
       "\n",
       "    .dataframe thead th {\n",
       "        text-align: right;\n",
       "    }\n",
       "</style>\n",
       "<table border=\"1\" class=\"dataframe\">\n",
       "  <thead>\n",
       "    <tr style=\"text-align: right;\">\n",
       "      <th></th>\n",
       "      <th></th>\n",
       "      <th>count</th>\n",
       "      <th>mean</th>\n",
       "      <th>std</th>\n",
       "      <th>min</th>\n",
       "      <th>25%</th>\n",
       "      <th>50%</th>\n",
       "      <th>75%</th>\n",
       "      <th>max</th>\n",
       "    </tr>\n",
       "    <tr>\n",
       "      <th>rideable_type</th>\n",
       "      <th>member_casual</th>\n",
       "      <th></th>\n",
       "      <th></th>\n",
       "      <th></th>\n",
       "      <th></th>\n",
       "      <th></th>\n",
       "      <th></th>\n",
       "      <th></th>\n",
       "      <th></th>\n",
       "    </tr>\n",
       "  </thead>\n",
       "  <tbody>\n",
       "    <tr>\n",
       "      <th rowspan=\"2\" valign=\"top\">classic_bike</th>\n",
       "      <th>casual</th>\n",
       "      <td>4953</td>\n",
       "      <td>0 days 16:41:30.346658590</td>\n",
       "      <td>0 days 10:53:37.897111900</td>\n",
       "      <td>0 days 00:00:00</td>\n",
       "      <td>0 days 02:34:08</td>\n",
       "      <td>1 days 00:59:49</td>\n",
       "      <td>1 days 00:59:54</td>\n",
       "      <td>1 days 01:59:56</td>\n",
       "    </tr>\n",
       "    <tr>\n",
       "      <th>member</th>\n",
       "      <td>3043</td>\n",
       "      <td>0 days 07:30:07.156095957</td>\n",
       "      <td>0 days 09:52:41.102439625</td>\n",
       "      <td>0 days 00:00:00</td>\n",
       "      <td>0 days 00:20:24</td>\n",
       "      <td>0 days 01:33:54</td>\n",
       "      <td>0 days 14:58:26.500000</td>\n",
       "      <td>1 days 01:59:54</td>\n",
       "    </tr>\n",
       "    <tr>\n",
       "      <th>docked_bike</th>\n",
       "      <th>casual</th>\n",
       "      <td>1774</td>\n",
       "      <td>2 days 22:04:06.620067643</td>\n",
       "      <td>4 days 00:09:43.307028879</td>\n",
       "      <td>0 days 00:00:28</td>\n",
       "      <td>0 days 14:35:34.500000</td>\n",
       "      <td>1 days 01:00:01</td>\n",
       "      <td>3 days 11:14:30</td>\n",
       "      <td>25 days 04:17:48</td>\n",
       "    </tr>\n",
       "    <tr>\n",
       "      <th rowspan=\"2\" valign=\"top\">electric_bike</th>\n",
       "      <th>casual</th>\n",
       "      <td>477653</td>\n",
       "      <td>0 days 00:18:06.732320324</td>\n",
       "      <td>0 days 00:24:16.244539667</td>\n",
       "      <td>-1 days +21:42:35</td>\n",
       "      <td>0 days 00:06:27</td>\n",
       "      <td>0 days 00:11:57</td>\n",
       "      <td>0 days 00:21:50</td>\n",
       "      <td>0 days 08:07:16</td>\n",
       "    </tr>\n",
       "    <tr>\n",
       "      <th>member</th>\n",
       "      <td>525631</td>\n",
       "      <td>0 days 00:12:08.641212181</td>\n",
       "      <td>0 days 00:17:42.913771968</td>\n",
       "      <td>-1 days +22:02:54</td>\n",
       "      <td>0 days 00:04:18</td>\n",
       "      <td>0 days 00:07:45</td>\n",
       "      <td>0 days 00:14:56</td>\n",
       "      <td>0 days 10:14:24</td>\n",
       "    </tr>\n",
       "  </tbody>\n",
       "</table>\n",
       "</div>"
      ],
      "text/plain": [
       "                              count                      mean  \\\n",
       "rideable_type member_casual                                     \n",
       "classic_bike  casual           4953 0 days 16:41:30.346658590   \n",
       "              member           3043 0 days 07:30:07.156095957   \n",
       "docked_bike   casual           1774 2 days 22:04:06.620067643   \n",
       "electric_bike casual         477653 0 days 00:18:06.732320324   \n",
       "              member         525631 0 days 00:12:08.641212181   \n",
       "\n",
       "                                                  std               min  \\\n",
       "rideable_type member_casual                                               \n",
       "classic_bike  casual        0 days 10:53:37.897111900   0 days 00:00:00   \n",
       "              member        0 days 09:52:41.102439625   0 days 00:00:00   \n",
       "docked_bike   casual        4 days 00:09:43.307028879   0 days 00:00:28   \n",
       "electric_bike casual        0 days 00:24:16.244539667 -1 days +21:42:35   \n",
       "              member        0 days 00:17:42.913771968 -1 days +22:02:54   \n",
       "\n",
       "                                               25%             50%  \\\n",
       "rideable_type member_casual                                          \n",
       "classic_bike  casual               0 days 02:34:08 1 days 00:59:49   \n",
       "              member               0 days 00:20:24 0 days 01:33:54   \n",
       "docked_bike   casual        0 days 14:35:34.500000 1 days 01:00:01   \n",
       "electric_bike casual               0 days 00:06:27 0 days 00:11:57   \n",
       "              member               0 days 00:04:18 0 days 00:07:45   \n",
       "\n",
       "                                               75%              max  \n",
       "rideable_type member_casual                                          \n",
       "classic_bike  casual               1 days 00:59:54  1 days 01:59:56  \n",
       "              member        0 days 14:58:26.500000  1 days 01:59:54  \n",
       "docked_bike   casual               3 days 11:14:30 25 days 04:17:48  \n",
       "electric_bike casual               0 days 00:21:50  0 days 08:07:16  \n",
       "              member               0 days 00:14:56  0 days 10:14:24  "
      ]
     },
     "execution_count": 15,
     "metadata": {},
     "output_type": "execute_result"
    }
   ],
   "source": [
    "end_station_id_na_data.groupby(['rideable_type','member_casual'])['ride_duration'].describe()"
   ]
  },
  {
   "cell_type": "markdown",
   "metadata": {},
   "source": [
    "Average and maximum values for docked and classic bikes are a bit irrationally high compared to electric bikes. Since the company offers a full-day trip and a single trip to its customers, it is really strange to think someone renting a bike for 25 days or riding a bike for 16 hours. Technically, it is possible but I believe there is a problem. \n",
    " \n",
    "-At this point, I feel like I need to contact the other departments to inform them and ask them questions. \n",
    "Questions:\n",
    "-Are these bikes returned at all? Or after some time system automatically generate an ending code?\n",
    "-Are there any security issues that some users may abuse in their favor? If stations are full how a docked bike can be returned at that specific station?\n",
    "etc.\n",
    "\n",
    "However, in my case, I can not ask any questions to anyone so I am going to create an assumption about what went wrong.\n",
    "\n"
   ]
  },
  {
   "cell_type": "markdown",
   "metadata": {},
   "source": [
    "# Latitude and longtitude missing value investigation"
   ]
  },
  {
   "cell_type": "code",
   "execution_count": 16,
   "metadata": {},
   "outputs": [
    {
     "data": {
      "text/plain": [
       "classic_bike    4547\n",
       "docked_bike     1774\n",
       "Name: rideable_type, dtype: int64"
      ]
     },
     "execution_count": 16,
     "metadata": {},
     "output_type": "execute_result"
    }
   ],
   "source": [
    "end_lat_na_data = df.loc[df['end_lat'].isnull()]\n",
    "end_lat_na_data.rideable_type.value_counts()"
   ]
  },
  {
   "cell_type": "code",
   "execution_count": 17,
   "metadata": {},
   "outputs": [
    {
     "data": {
      "text/plain": [
       "classic_bike    4547\n",
       "docked_bike     1774\n",
       "Name: rideable_type, dtype: int64"
      ]
     },
     "execution_count": 17,
     "metadata": {},
     "output_type": "execute_result"
    }
   ],
   "source": [
    "end_lon_na_data = df.loc[df['end_lng'].isnull()]\n",
    "end_lon_na_data.rideable_type.value_counts()"
   ]
  },
  {
   "cell_type": "code",
   "execution_count": 18,
   "metadata": {},
   "outputs": [
    {
     "data": {
      "text/html": [
       "<div>\n",
       "<style scoped>\n",
       "    .dataframe tbody tr th:only-of-type {\n",
       "        vertical-align: middle;\n",
       "    }\n",
       "\n",
       "    .dataframe tbody tr th {\n",
       "        vertical-align: top;\n",
       "    }\n",
       "\n",
       "    .dataframe thead th {\n",
       "        text-align: right;\n",
       "    }\n",
       "</style>\n",
       "<table border=\"1\" class=\"dataframe\">\n",
       "  <thead>\n",
       "    <tr style=\"text-align: right;\">\n",
       "      <th></th>\n",
       "      <th></th>\n",
       "      <th>count</th>\n",
       "      <th>mean</th>\n",
       "      <th>std</th>\n",
       "      <th>min</th>\n",
       "      <th>25%</th>\n",
       "      <th>50%</th>\n",
       "      <th>75%</th>\n",
       "      <th>max</th>\n",
       "    </tr>\n",
       "    <tr>\n",
       "      <th>rideable_type</th>\n",
       "      <th>member_casual</th>\n",
       "      <th></th>\n",
       "      <th></th>\n",
       "      <th></th>\n",
       "      <th></th>\n",
       "      <th></th>\n",
       "      <th></th>\n",
       "      <th></th>\n",
       "      <th></th>\n",
       "    </tr>\n",
       "  </thead>\n",
       "  <tbody>\n",
       "    <tr>\n",
       "      <th rowspan=\"2\" valign=\"top\">classic_bike</th>\n",
       "      <th>casual</th>\n",
       "      <td>3600</td>\n",
       "      <td>0 days 21:34:50.758333333</td>\n",
       "      <td>0 days 07:53:18.741883167</td>\n",
       "      <td>0 days 00:00:06</td>\n",
       "      <td>1 days 00:59:45</td>\n",
       "      <td>1 days 00:59:53</td>\n",
       "      <td>1 days 00:59:55</td>\n",
       "      <td>1 days 01:59:56</td>\n",
       "    </tr>\n",
       "    <tr>\n",
       "      <th>member</th>\n",
       "      <td>947</td>\n",
       "      <td>0 days 17:19:25.009503695</td>\n",
       "      <td>0 days 10:42:52.100621321</td>\n",
       "      <td>0 days 00:00:05</td>\n",
       "      <td>0 days 03:16:36.500000</td>\n",
       "      <td>1 days 00:59:51</td>\n",
       "      <td>1 days 00:59:54</td>\n",
       "      <td>1 days 01:59:54</td>\n",
       "    </tr>\n",
       "    <tr>\n",
       "      <th>docked_bike</th>\n",
       "      <th>casual</th>\n",
       "      <td>1774</td>\n",
       "      <td>2 days 22:04:06.620067643</td>\n",
       "      <td>4 days 00:09:43.307028879</td>\n",
       "      <td>0 days 00:00:28</td>\n",
       "      <td>0 days 14:35:34.500000</td>\n",
       "      <td>1 days 01:00:01</td>\n",
       "      <td>3 days 11:14:30</td>\n",
       "      <td>25 days 04:17:48</td>\n",
       "    </tr>\n",
       "  </tbody>\n",
       "</table>\n",
       "</div>"
      ],
      "text/plain": [
       "                            count                      mean  \\\n",
       "rideable_type member_casual                                   \n",
       "classic_bike  casual         3600 0 days 21:34:50.758333333   \n",
       "              member          947 0 days 17:19:25.009503695   \n",
       "docked_bike   casual         1774 2 days 22:04:06.620067643   \n",
       "\n",
       "                                                  std             min  \\\n",
       "rideable_type member_casual                                             \n",
       "classic_bike  casual        0 days 07:53:18.741883167 0 days 00:00:06   \n",
       "              member        0 days 10:42:52.100621321 0 days 00:00:05   \n",
       "docked_bike   casual        4 days 00:09:43.307028879 0 days 00:00:28   \n",
       "\n",
       "                                               25%             50%  \\\n",
       "rideable_type member_casual                                          \n",
       "classic_bike  casual               1 days 00:59:45 1 days 00:59:53   \n",
       "              member        0 days 03:16:36.500000 1 days 00:59:51   \n",
       "docked_bike   casual        0 days 14:35:34.500000 1 days 01:00:01   \n",
       "\n",
       "                                        75%              max  \n",
       "rideable_type member_casual                                   \n",
       "classic_bike  casual        1 days 00:59:55  1 days 01:59:56  \n",
       "              member        1 days 00:59:54  1 days 01:59:54  \n",
       "docked_bike   casual        3 days 11:14:30 25 days 04:17:48  "
      ]
     },
     "execution_count": 18,
     "metadata": {},
     "output_type": "execute_result"
    }
   ],
   "source": [
    "end_lon_na_data.groupby(['rideable_type','member_casual'])['ride_duration'].describe()"
   ]
  },
  {
   "cell_type": "markdown",
   "metadata": {},
   "source": [
    "# The question raised in my head and I wanted to investigate if there are any rides with that start station name exists but the end station name is an NA value"
   ]
  },
  {
   "cell_type": "code",
   "execution_count": 19,
   "metadata": {},
   "outputs": [
    {
     "data": {
      "text/plain": [
       "1013054"
      ]
     },
     "execution_count": 19,
     "metadata": {},
     "output_type": "execute_result"
    }
   ],
   "source": [
    "end_station_id_na_data['end_station_name'].isnull().sum()\n"
   ]
  },
  {
   "cell_type": "code",
   "execution_count": 20,
   "metadata": {},
   "outputs": [
    {
     "data": {
      "text/plain": [
       "558781"
      ]
     },
     "execution_count": 20,
     "metadata": {},
     "output_type": "execute_result"
    }
   ],
   "source": [
    "end_station_id_na_data['start_station_name'].isnull().sum()"
   ]
  },
  {
   "cell_type": "markdown",
   "metadata": {},
   "source": [
    "Almost half of the rides have station name data for where the ride started, which is interesting. Let's dig a bit deeper."
   ]
  },
  {
   "cell_type": "code",
   "execution_count": 21,
   "metadata": {},
   "outputs": [
    {
     "data": {
      "text/html": [
       "<div>\n",
       "<style scoped>\n",
       "    .dataframe tbody tr th:only-of-type {\n",
       "        vertical-align: middle;\n",
       "    }\n",
       "\n",
       "    .dataframe tbody tr th {\n",
       "        vertical-align: top;\n",
       "    }\n",
       "\n",
       "    .dataframe thead th {\n",
       "        text-align: right;\n",
       "    }\n",
       "</style>\n",
       "<table border=\"1\" class=\"dataframe\">\n",
       "  <thead>\n",
       "    <tr style=\"text-align: right;\">\n",
       "      <th></th>\n",
       "      <th></th>\n",
       "      <th>count</th>\n",
       "      <th>mean</th>\n",
       "      <th>std</th>\n",
       "      <th>min</th>\n",
       "      <th>25%</th>\n",
       "      <th>50%</th>\n",
       "      <th>75%</th>\n",
       "      <th>max</th>\n",
       "    </tr>\n",
       "    <tr>\n",
       "      <th>rideable_type</th>\n",
       "      <th>member_casual</th>\n",
       "      <th></th>\n",
       "      <th></th>\n",
       "      <th></th>\n",
       "      <th></th>\n",
       "      <th></th>\n",
       "      <th></th>\n",
       "      <th></th>\n",
       "      <th></th>\n",
       "    </tr>\n",
       "  </thead>\n",
       "  <tbody>\n",
       "    <tr>\n",
       "      <th rowspan=\"2\" valign=\"top\">classic_bike</th>\n",
       "      <th>casual</th>\n",
       "      <td>4953</td>\n",
       "      <td>0 days 16:41:30.346658590</td>\n",
       "      <td>0 days 10:53:37.897111900</td>\n",
       "      <td>0 days 00:00:00</td>\n",
       "      <td>0 days 02:34:08</td>\n",
       "      <td>1 days 00:59:49</td>\n",
       "      <td>1 days 00:59:54</td>\n",
       "      <td>1 days 01:59:56</td>\n",
       "    </tr>\n",
       "    <tr>\n",
       "      <th>member</th>\n",
       "      <td>3043</td>\n",
       "      <td>0 days 07:30:07.156095957</td>\n",
       "      <td>0 days 09:52:41.102439625</td>\n",
       "      <td>0 days 00:00:00</td>\n",
       "      <td>0 days 00:20:24</td>\n",
       "      <td>0 days 01:33:54</td>\n",
       "      <td>0 days 14:58:26.500000</td>\n",
       "      <td>1 days 01:59:54</td>\n",
       "    </tr>\n",
       "    <tr>\n",
       "      <th>docked_bike</th>\n",
       "      <th>casual</th>\n",
       "      <td>1774</td>\n",
       "      <td>2 days 22:04:06.620067643</td>\n",
       "      <td>4 days 00:09:43.307028879</td>\n",
       "      <td>0 days 00:00:28</td>\n",
       "      <td>0 days 14:35:34.500000</td>\n",
       "      <td>1 days 01:00:01</td>\n",
       "      <td>3 days 11:14:30</td>\n",
       "      <td>25 days 04:17:48</td>\n",
       "    </tr>\n",
       "    <tr>\n",
       "      <th rowspan=\"2\" valign=\"top\">electric_bike</th>\n",
       "      <th>casual</th>\n",
       "      <td>222162</td>\n",
       "      <td>0 days 00:19:27.613979888</td>\n",
       "      <td>0 days 00:25:03.450004935</td>\n",
       "      <td>-1 days +23:01:58</td>\n",
       "      <td>0 days 00:07:02</td>\n",
       "      <td>0 days 00:12:45</td>\n",
       "      <td>0 days 00:23:24</td>\n",
       "      <td>0 days 08:07:16</td>\n",
       "    </tr>\n",
       "    <tr>\n",
       "      <th>member</th>\n",
       "      <td>222341</td>\n",
       "      <td>0 days 00:13:17.553631583</td>\n",
       "      <td>0 days 00:18:31.965559046</td>\n",
       "      <td>-1 days +23:23:06</td>\n",
       "      <td>0 days 00:05:02</td>\n",
       "      <td>0 days 00:09:01</td>\n",
       "      <td>0 days 00:16:28</td>\n",
       "      <td>0 days 10:14:24</td>\n",
       "    </tr>\n",
       "  </tbody>\n",
       "</table>\n",
       "</div>"
      ],
      "text/plain": [
       "                              count                      mean  \\\n",
       "rideable_type member_casual                                     \n",
       "classic_bike  casual           4953 0 days 16:41:30.346658590   \n",
       "              member           3043 0 days 07:30:07.156095957   \n",
       "docked_bike   casual           1774 2 days 22:04:06.620067643   \n",
       "electric_bike casual         222162 0 days 00:19:27.613979888   \n",
       "              member         222341 0 days 00:13:17.553631583   \n",
       "\n",
       "                                                  std               min  \\\n",
       "rideable_type member_casual                                               \n",
       "classic_bike  casual        0 days 10:53:37.897111900   0 days 00:00:00   \n",
       "              member        0 days 09:52:41.102439625   0 days 00:00:00   \n",
       "docked_bike   casual        4 days 00:09:43.307028879   0 days 00:00:28   \n",
       "electric_bike casual        0 days 00:25:03.450004935 -1 days +23:01:58   \n",
       "              member        0 days 00:18:31.965559046 -1 days +23:23:06   \n",
       "\n",
       "                                               25%             50%  \\\n",
       "rideable_type member_casual                                          \n",
       "classic_bike  casual               0 days 02:34:08 1 days 00:59:49   \n",
       "              member               0 days 00:20:24 0 days 01:33:54   \n",
       "docked_bike   casual        0 days 14:35:34.500000 1 days 01:00:01   \n",
       "electric_bike casual               0 days 00:07:02 0 days 00:12:45   \n",
       "              member               0 days 00:05:02 0 days 00:09:01   \n",
       "\n",
       "                                               75%              max  \n",
       "rideable_type member_casual                                          \n",
       "classic_bike  casual               1 days 00:59:54  1 days 01:59:56  \n",
       "              member        0 days 14:58:26.500000  1 days 01:59:54  \n",
       "docked_bike   casual               3 days 11:14:30 25 days 04:17:48  \n",
       "electric_bike casual               0 days 00:23:24  0 days 08:07:16  \n",
       "              member               0 days 00:16:28  0 days 10:14:24  "
      ]
     },
     "execution_count": 21,
     "metadata": {},
     "output_type": "execute_result"
    }
   ],
   "source": [
    "#selecting the data that has start station for a ride but have no end station \n",
    "end_station_id_na_data_start_station_name= end_station_id_na_data[end_station_id_na_data['start_station_name'].notnull()]\n",
    "end_station_id_na_data_start_station_name.groupby(['rideable_type','member_casual'])['ride_duration'].describe()"
   ]
  },
  {
   "cell_type": "markdown",
   "metadata": {},
   "source": [
    "I want to see the comparison of no data for start or end station names that exist for a ride."
   ]
  },
  {
   "cell_type": "code",
   "execution_count": 22,
   "metadata": {},
   "outputs": [
    {
     "data": {
      "text/html": [
       "<div>\n",
       "<style scoped>\n",
       "    .dataframe tbody tr th:only-of-type {\n",
       "        vertical-align: middle;\n",
       "    }\n",
       "\n",
       "    .dataframe tbody tr th {\n",
       "        vertical-align: top;\n",
       "    }\n",
       "\n",
       "    .dataframe thead th {\n",
       "        text-align: right;\n",
       "    }\n",
       "</style>\n",
       "<table border=\"1\" class=\"dataframe\">\n",
       "  <thead>\n",
       "    <tr style=\"text-align: right;\">\n",
       "      <th></th>\n",
       "      <th></th>\n",
       "      <th>count</th>\n",
       "      <th>mean</th>\n",
       "      <th>std</th>\n",
       "      <th>min</th>\n",
       "      <th>25%</th>\n",
       "      <th>50%</th>\n",
       "      <th>75%</th>\n",
       "      <th>max</th>\n",
       "    </tr>\n",
       "    <tr>\n",
       "      <th>rideable_type</th>\n",
       "      <th>member_casual</th>\n",
       "      <th></th>\n",
       "      <th></th>\n",
       "      <th></th>\n",
       "      <th></th>\n",
       "      <th></th>\n",
       "      <th></th>\n",
       "      <th></th>\n",
       "      <th></th>\n",
       "    </tr>\n",
       "  </thead>\n",
       "  <tbody>\n",
       "    <tr>\n",
       "      <th rowspan=\"2\" valign=\"top\">electric_bike</th>\n",
       "      <th>casual</th>\n",
       "      <td>255491</td>\n",
       "      <td>0 days 00:16:56.401736264</td>\n",
       "      <td>0 days 00:23:30.153769800</td>\n",
       "      <td>-1 days +21:42:35</td>\n",
       "      <td>0 days 00:05:59</td>\n",
       "      <td>0 days 00:11:17</td>\n",
       "      <td>0 days 00:20:37</td>\n",
       "      <td>0 days 08:00:31</td>\n",
       "    </tr>\n",
       "    <tr>\n",
       "      <th>member</th>\n",
       "      <td>303290</td>\n",
       "      <td>0 days 00:11:18.121721784</td>\n",
       "      <td>0 days 00:17:02.520315384</td>\n",
       "      <td>-1 days +22:02:54</td>\n",
       "      <td>0 days 00:03:55</td>\n",
       "      <td>0 days 00:06:53</td>\n",
       "      <td>0 days 00:13:39</td>\n",
       "      <td>0 days 08:00:31</td>\n",
       "    </tr>\n",
       "  </tbody>\n",
       "</table>\n",
       "</div>"
      ],
      "text/plain": [
       "                              count                      mean  \\\n",
       "rideable_type member_casual                                     \n",
       "electric_bike casual         255491 0 days 00:16:56.401736264   \n",
       "              member         303290 0 days 00:11:18.121721784   \n",
       "\n",
       "                                                  std               min  \\\n",
       "rideable_type member_casual                                               \n",
       "electric_bike casual        0 days 00:23:30.153769800 -1 days +21:42:35   \n",
       "              member        0 days 00:17:02.520315384 -1 days +22:02:54   \n",
       "\n",
       "                                        25%             50%             75%  \\\n",
       "rideable_type member_casual                                                   \n",
       "electric_bike casual        0 days 00:05:59 0 days 00:11:17 0 days 00:20:37   \n",
       "              member        0 days 00:03:55 0 days 00:06:53 0 days 00:13:39   \n",
       "\n",
       "                                        max  \n",
       "rideable_type member_casual                  \n",
       "electric_bike casual        0 days 08:00:31  \n",
       "              member        0 days 08:00:31  "
      ]
     },
     "execution_count": 22,
     "metadata": {},
     "output_type": "execute_result"
    }
   ],
   "source": [
    "no_station_name_data_at_all = df[(df['start_station_name'].isnull() & df['end_station_name'].isnull())]\n",
    "no_station_name_data_at_all.groupby(['rideable_type', 'member_casual'])['ride_duration'].describe()"
   ]
  },
  {
   "cell_type": "markdown",
   "metadata": {},
   "source": [
    "okay.. so only electric bikes have the problem of generating either start or end station names but they have been returned the most after 8 hours. However, the average for the other bike types is unreasonably high because nobody rides a bike for a full day or three days, and some of the docked bikes were out for 25 days which is absurd, and a great cost for a company.\n"
   ]
  },
  {
   "cell_type": "markdown",
   "metadata": {},
   "source": [
    "#So let me see if there are data with no start station name but an end station name."
   ]
  },
  {
   "cell_type": "code",
   "execution_count": 23,
   "metadata": {},
   "outputs": [
    {
     "data": {
      "text/html": [
       "<div>\n",
       "<style scoped>\n",
       "    .dataframe tbody tr th:only-of-type {\n",
       "        vertical-align: middle;\n",
       "    }\n",
       "\n",
       "    .dataframe tbody tr th {\n",
       "        vertical-align: top;\n",
       "    }\n",
       "\n",
       "    .dataframe thead th {\n",
       "        text-align: right;\n",
       "    }\n",
       "</style>\n",
       "<table border=\"1\" class=\"dataframe\">\n",
       "  <thead>\n",
       "    <tr style=\"text-align: right;\">\n",
       "      <th></th>\n",
       "      <th></th>\n",
       "      <th>count</th>\n",
       "      <th>mean</th>\n",
       "      <th>std</th>\n",
       "      <th>min</th>\n",
       "      <th>25%</th>\n",
       "      <th>50%</th>\n",
       "      <th>75%</th>\n",
       "      <th>max</th>\n",
       "    </tr>\n",
       "    <tr>\n",
       "      <th>rideable_type</th>\n",
       "      <th>member_casual</th>\n",
       "      <th></th>\n",
       "      <th></th>\n",
       "      <th></th>\n",
       "      <th></th>\n",
       "      <th></th>\n",
       "      <th></th>\n",
       "      <th></th>\n",
       "      <th></th>\n",
       "    </tr>\n",
       "  </thead>\n",
       "  <tbody>\n",
       "    <tr>\n",
       "      <th rowspan=\"2\" valign=\"top\">electric_bike</th>\n",
       "      <th>casual</th>\n",
       "      <td>161115</td>\n",
       "      <td>0 days 00:18:04.612655556</td>\n",
       "      <td>0 days 00:17:56.355342022</td>\n",
       "      <td>-1 days +21:49:58</td>\n",
       "      <td>0 days 00:07:59</td>\n",
       "      <td>0 days 00:13:15</td>\n",
       "      <td>0 days 00:21:51</td>\n",
       "      <td>0 days 08:00:31</td>\n",
       "    </tr>\n",
       "    <tr>\n",
       "      <th>member</th>\n",
       "      <td>228153</td>\n",
       "      <td>0 days 00:13:46.579944160</td>\n",
       "      <td>0 days 00:14:53.748010796</td>\n",
       "      <td>-1 days +23:18:08</td>\n",
       "      <td>0 days 00:05:48</td>\n",
       "      <td>0 days 00:10:13</td>\n",
       "      <td>0 days 00:17:39</td>\n",
       "      <td>0 days 07:59:59</td>\n",
       "    </tr>\n",
       "  </tbody>\n",
       "</table>\n",
       "</div>"
      ],
      "text/plain": [
       "                              count                      mean  \\\n",
       "rideable_type member_casual                                     \n",
       "electric_bike casual         161115 0 days 00:18:04.612655556   \n",
       "              member         228153 0 days 00:13:46.579944160   \n",
       "\n",
       "                                                  std               min  \\\n",
       "rideable_type member_casual                                               \n",
       "electric_bike casual        0 days 00:17:56.355342022 -1 days +21:49:58   \n",
       "              member        0 days 00:14:53.748010796 -1 days +23:18:08   \n",
       "\n",
       "                                        25%             50%             75%  \\\n",
       "rideable_type member_casual                                                   \n",
       "electric_bike casual        0 days 00:07:59 0 days 00:13:15 0 days 00:21:51   \n",
       "              member        0 days 00:05:48 0 days 00:10:13 0 days 00:17:39   \n",
       "\n",
       "                                        max  \n",
       "rideable_type member_casual                  \n",
       "electric_bike casual        0 days 08:00:31  \n",
       "              member        0 days 07:59:59  "
      ]
     },
     "execution_count": 23,
     "metadata": {},
     "output_type": "execute_result"
    }
   ],
   "source": [
    "no_start_but_end_station_data = df[(df['start_station_name'].isnull() & df['end_station_name'].notnull())]\n",
    "no_start_but_end_station_data.groupby(['rideable_type', 'member_casual'])['ride_duration'].describe()\n",
    "\n"
   ]
  },
  {
   "cell_type": "markdown",
   "metadata": {},
   "source": [
    "I believe there is a bug that needs to be fixed about generating the data of station names. Probably you can leave the electric bike wherever you want within the zone there is no station name.\n",
    "** Suggestion: Maybe the nearest station could be given for both start or end station names."
   ]
  },
  {
   "cell_type": "markdown",
   "metadata": {},
   "source": [
    "# Investigating the number of bikes that have been rented for more than 10 hours and trips that have no end station name data."
   ]
  },
  {
   "cell_type": "code",
   "execution_count": 24,
   "metadata": {},
   "outputs": [],
   "source": [
    "#I couldn't find the way to filter the string data so I convert the column to total seconds and divided it to find minutes\n",
    "df['ride_duration'] = (df['ride_duration'].dt.total_seconds()/60).astype(int)"
   ]
  },
  {
   "cell_type": "code",
   "execution_count": 25,
   "metadata": {},
   "outputs": [
    {
     "data": {
      "text/plain": [
       "rideable_type  member_casual\n",
       "classic_bike   casual           4716\n",
       "               member           1371\n",
       "docked_bike    casual           3203\n",
       "electric_bike  member              1\n",
       "Name: ride_duration, dtype: int64"
      ]
     },
     "execution_count": 25,
     "metadata": {},
     "output_type": "execute_result"
    }
   ],
   "source": [
    "#numbers of rides for longer than 10 hours. I chose 10 hours because the number seemed reasonable. \n",
    "df[df['ride_duration']>600].groupby(['rideable_type','member_casual'])['ride_duration'].size()"
   ]
  },
  {
   "cell_type": "code",
   "execution_count": 26,
   "metadata": {},
   "outputs": [],
   "source": [
    "start_yes_but_no_end = df[(df['start_station_id'].notna()) & (df['end_station_id'].isna())]"
   ]
  },
  {
   "cell_type": "code",
   "execution_count": 27,
   "metadata": {},
   "outputs": [
    {
     "data": {
      "text/plain": [
       "rideable_type  member_casual\n",
       "classic_bike   casual           3289\n",
       "               member            889\n",
       "docked_bike    casual           1378\n",
       "electric_bike  member              1\n",
       "Name: ride_duration, dtype: int64"
      ]
     },
     "execution_count": 27,
     "metadata": {},
     "output_type": "execute_result"
    }
   ],
   "source": [
    "#I believe these bikes are gone and some of them returned back\n",
    "start_yes_but_no_end[start_yes_but_no_end['ride_duration']>600].groupby(['rideable_type','member_casual'])['ride_duration'].size()"
   ]
  },
  {
   "cell_type": "markdown",
   "metadata": {},
   "source": [
    "**My theory and suggestion to fix the problem**\n",
    "\n",
    "I am thinking if the station is full, to return the docked bike you have to open your navigation through the app and unlock the lock of your bike, and return. However, what if you don't? Trusting the customer seemed to me that cause harm to the business therefore reducing the number of docked bikes from circulation or installing more stations can solve the problem. Because the same problem didn't occur with electric or classic bikes.  \n",
    "\n",
    "Or maybe irresponsible CASUAL customers never even bothered to secure the bike during the return process because there was no consequence?\n",
    "\n",
    "My suggestion is if you are not a member you have to pay the deposit to use the bikes, this solution may discourage some users but if it's well explained to the customers why the company is taking such aggressive action towards casual users, most of the users would understand the situation, at least the sympathy invoking well-written message would help the company to not lose trustworthiness, and it would increase the number of member users."
   ]
  },
  {
   "cell_type": "markdown",
   "metadata": {},
   "source": [
    "# Let's keep continue with cleaning the data after dropping the NA values"
   ]
  },
  {
   "cell_type": "code",
   "execution_count": 28,
   "metadata": {},
   "outputs": [
    {
     "data": {
      "text/html": [
       "<div>\n",
       "<style scoped>\n",
       "    .dataframe tbody tr th:only-of-type {\n",
       "        vertical-align: middle;\n",
       "    }\n",
       "\n",
       "    .dataframe tbody tr th {\n",
       "        vertical-align: top;\n",
       "    }\n",
       "\n",
       "    .dataframe thead th {\n",
       "        text-align: right;\n",
       "    }\n",
       "</style>\n",
       "<table border=\"1\" class=\"dataframe\">\n",
       "  <thead>\n",
       "    <tr style=\"text-align: right;\">\n",
       "      <th></th>\n",
       "      <th>ride_id</th>\n",
       "      <th>rideable_type</th>\n",
       "      <th>started_at</th>\n",
       "      <th>ended_at</th>\n",
       "      <th>start_station_name</th>\n",
       "      <th>start_station_id</th>\n",
       "      <th>end_station_name</th>\n",
       "      <th>end_station_id</th>\n",
       "      <th>start_lat</th>\n",
       "      <th>start_lng</th>\n",
       "      <th>end_lat</th>\n",
       "      <th>end_lng</th>\n",
       "      <th>member_casual</th>\n",
       "      <th>ride_duration</th>\n",
       "    </tr>\n",
       "  </thead>\n",
       "  <tbody>\n",
       "    <tr>\n",
       "      <th>0</th>\n",
       "      <td>0A1B623926EF4E16</td>\n",
       "      <td>docked_bike</td>\n",
       "      <td>2021-07-02 14:44:36</td>\n",
       "      <td>2021-07-02 15:19:58</td>\n",
       "      <td>Michigan Ave &amp; Washington St</td>\n",
       "      <td>13001</td>\n",
       "      <td>Halsted St &amp; North Branch St</td>\n",
       "      <td>KA1504000117</td>\n",
       "      <td>41.883984</td>\n",
       "      <td>-87.624684</td>\n",
       "      <td>41.899368</td>\n",
       "      <td>-87.648480</td>\n",
       "      <td>casual</td>\n",
       "      <td>35</td>\n",
       "    </tr>\n",
       "    <tr>\n",
       "      <th>1</th>\n",
       "      <td>B2D5583A5A5E76EE</td>\n",
       "      <td>classic_bike</td>\n",
       "      <td>2021-07-07 16:57:42</td>\n",
       "      <td>2021-07-07 17:16:09</td>\n",
       "      <td>California Ave &amp; Cortez St</td>\n",
       "      <td>17660</td>\n",
       "      <td>Wood St &amp; Hubbard St</td>\n",
       "      <td>13432</td>\n",
       "      <td>41.900363</td>\n",
       "      <td>-87.696704</td>\n",
       "      <td>41.889899</td>\n",
       "      <td>-87.671473</td>\n",
       "      <td>casual</td>\n",
       "      <td>18</td>\n",
       "    </tr>\n",
       "    <tr>\n",
       "      <th>2</th>\n",
       "      <td>6F264597DDBF427A</td>\n",
       "      <td>classic_bike</td>\n",
       "      <td>2021-07-25 11:30:55</td>\n",
       "      <td>2021-07-25 11:48:45</td>\n",
       "      <td>Wabash Ave &amp; 16th St</td>\n",
       "      <td>SL-012</td>\n",
       "      <td>Rush St &amp; Hubbard St</td>\n",
       "      <td>KA1503000044</td>\n",
       "      <td>41.860384</td>\n",
       "      <td>-87.625813</td>\n",
       "      <td>41.890173</td>\n",
       "      <td>-87.626185</td>\n",
       "      <td>member</td>\n",
       "      <td>17</td>\n",
       "    </tr>\n",
       "    <tr>\n",
       "      <th>3</th>\n",
       "      <td>379B58EAB20E8AA5</td>\n",
       "      <td>classic_bike</td>\n",
       "      <td>2021-07-08 22:08:30</td>\n",
       "      <td>2021-07-08 22:23:32</td>\n",
       "      <td>California Ave &amp; Cortez St</td>\n",
       "      <td>17660</td>\n",
       "      <td>Carpenter St &amp; Huron St</td>\n",
       "      <td>13196</td>\n",
       "      <td>41.900363</td>\n",
       "      <td>-87.696704</td>\n",
       "      <td>41.894556</td>\n",
       "      <td>-87.653449</td>\n",
       "      <td>member</td>\n",
       "      <td>15</td>\n",
       "    </tr>\n",
       "    <tr>\n",
       "      <th>4</th>\n",
       "      <td>6615C1E4EB08E8FB</td>\n",
       "      <td>electric_bike</td>\n",
       "      <td>2021-07-28 16:08:06</td>\n",
       "      <td>2021-07-28 16:27:09</td>\n",
       "      <td>California Ave &amp; Cortez St</td>\n",
       "      <td>17660</td>\n",
       "      <td>Elizabeth (May) St &amp; Fulton St</td>\n",
       "      <td>13197</td>\n",
       "      <td>41.900350</td>\n",
       "      <td>-87.696682</td>\n",
       "      <td>41.886593</td>\n",
       "      <td>-87.658387</td>\n",
       "      <td>casual</td>\n",
       "      <td>19</td>\n",
       "    </tr>\n",
       "    <tr>\n",
       "      <th>...</th>\n",
       "      <td>...</td>\n",
       "      <td>...</td>\n",
       "      <td>...</td>\n",
       "      <td>...</td>\n",
       "      <td>...</td>\n",
       "      <td>...</td>\n",
       "      <td>...</td>\n",
       "      <td>...</td>\n",
       "      <td>...</td>\n",
       "      <td>...</td>\n",
       "      <td>...</td>\n",
       "      <td>...</td>\n",
       "      <td>...</td>\n",
       "      <td>...</td>\n",
       "    </tr>\n",
       "    <tr>\n",
       "      <th>6722923</th>\n",
       "      <td>6394A34ACAA198A6</td>\n",
       "      <td>electric_bike</td>\n",
       "      <td>2022-07-25 11:21:39</td>\n",
       "      <td>2022-07-25 11:23:28</td>\n",
       "      <td>California Ave &amp; Altgeld St</td>\n",
       "      <td>15646</td>\n",
       "      <td>California Ave &amp; Milwaukee Ave</td>\n",
       "      <td>13084</td>\n",
       "      <td>41.926633</td>\n",
       "      <td>-87.697727</td>\n",
       "      <td>41.922695</td>\n",
       "      <td>-87.697153</td>\n",
       "      <td>member</td>\n",
       "      <td>1</td>\n",
       "    </tr>\n",
       "    <tr>\n",
       "      <th>6722926</th>\n",
       "      <td>3276F1017BD0CFA6</td>\n",
       "      <td>electric_bike</td>\n",
       "      <td>2022-07-23 12:42:19</td>\n",
       "      <td>2022-07-23 12:49:48</td>\n",
       "      <td>California Ave &amp; Altgeld St</td>\n",
       "      <td>15646</td>\n",
       "      <td>California Ave &amp; Division St</td>\n",
       "      <td>13256</td>\n",
       "      <td>41.926623</td>\n",
       "      <td>-87.697759</td>\n",
       "      <td>41.903029</td>\n",
       "      <td>-87.697474</td>\n",
       "      <td>casual</td>\n",
       "      <td>7</td>\n",
       "    </tr>\n",
       "    <tr>\n",
       "      <th>6722982</th>\n",
       "      <td>B0FD149163D58D01</td>\n",
       "      <td>classic_bike</td>\n",
       "      <td>2022-07-21 07:28:01</td>\n",
       "      <td>2022-07-21 07:31:18</td>\n",
       "      <td>Damen Ave &amp; Grand Ave</td>\n",
       "      <td>TA1308000006</td>\n",
       "      <td>Wood St &amp; Chicago Ave</td>\n",
       "      <td>637</td>\n",
       "      <td>41.892394</td>\n",
       "      <td>-87.676885</td>\n",
       "      <td>41.895634</td>\n",
       "      <td>-87.672069</td>\n",
       "      <td>member</td>\n",
       "      <td>3</td>\n",
       "    </tr>\n",
       "    <tr>\n",
       "      <th>6723235</th>\n",
       "      <td>A597A11985C1FEC2</td>\n",
       "      <td>classic_bike</td>\n",
       "      <td>2022-07-10 20:44:11</td>\n",
       "      <td>2022-07-10 20:45:26</td>\n",
       "      <td>California Ave &amp; Division St</td>\n",
       "      <td>13256</td>\n",
       "      <td>California Ave &amp; Division St</td>\n",
       "      <td>13256</td>\n",
       "      <td>41.903029</td>\n",
       "      <td>-87.697474</td>\n",
       "      <td>41.903029</td>\n",
       "      <td>-87.697474</td>\n",
       "      <td>casual</td>\n",
       "      <td>1</td>\n",
       "    </tr>\n",
       "    <tr>\n",
       "      <th>6723699</th>\n",
       "      <td>64667503E0CD9576</td>\n",
       "      <td>classic_bike</td>\n",
       "      <td>2022-07-22 17:37:46</td>\n",
       "      <td>2022-07-22 18:02:19</td>\n",
       "      <td>Wood St &amp; Chicago Ave</td>\n",
       "      <td>637</td>\n",
       "      <td>California Ave &amp; Milwaukee Ave</td>\n",
       "      <td>13084</td>\n",
       "      <td>41.895634</td>\n",
       "      <td>-87.672069</td>\n",
       "      <td>41.922695</td>\n",
       "      <td>-87.697153</td>\n",
       "      <td>member</td>\n",
       "      <td>24</td>\n",
       "    </tr>\n",
       "  </tbody>\n",
       "</table>\n",
       "<p>5321551 rows × 14 columns</p>\n",
       "</div>"
      ],
      "text/plain": [
       "                  ride_id  rideable_type          started_at  \\\n",
       "0        0A1B623926EF4E16    docked_bike 2021-07-02 14:44:36   \n",
       "1        B2D5583A5A5E76EE   classic_bike 2021-07-07 16:57:42   \n",
       "2        6F264597DDBF427A   classic_bike 2021-07-25 11:30:55   \n",
       "3        379B58EAB20E8AA5   classic_bike 2021-07-08 22:08:30   \n",
       "4        6615C1E4EB08E8FB  electric_bike 2021-07-28 16:08:06   \n",
       "...                   ...            ...                 ...   \n",
       "6722923  6394A34ACAA198A6  electric_bike 2022-07-25 11:21:39   \n",
       "6722926  3276F1017BD0CFA6  electric_bike 2022-07-23 12:42:19   \n",
       "6722982  B0FD149163D58D01   classic_bike 2022-07-21 07:28:01   \n",
       "6723235  A597A11985C1FEC2   classic_bike 2022-07-10 20:44:11   \n",
       "6723699  64667503E0CD9576   classic_bike 2022-07-22 17:37:46   \n",
       "\n",
       "                   ended_at            start_station_name start_station_id  \\\n",
       "0       2021-07-02 15:19:58  Michigan Ave & Washington St            13001   \n",
       "1       2021-07-07 17:16:09    California Ave & Cortez St            17660   \n",
       "2       2021-07-25 11:48:45          Wabash Ave & 16th St           SL-012   \n",
       "3       2021-07-08 22:23:32    California Ave & Cortez St            17660   \n",
       "4       2021-07-28 16:27:09    California Ave & Cortez St            17660   \n",
       "...                     ...                           ...              ...   \n",
       "6722923 2022-07-25 11:23:28   California Ave & Altgeld St            15646   \n",
       "6722926 2022-07-23 12:49:48   California Ave & Altgeld St            15646   \n",
       "6722982 2022-07-21 07:31:18         Damen Ave & Grand Ave     TA1308000006   \n",
       "6723235 2022-07-10 20:45:26  California Ave & Division St            13256   \n",
       "6723699 2022-07-22 18:02:19         Wood St & Chicago Ave              637   \n",
       "\n",
       "                       end_station_name end_station_id  start_lat  start_lng  \\\n",
       "0          Halsted St & North Branch St   KA1504000117  41.883984 -87.624684   \n",
       "1                  Wood St & Hubbard St          13432  41.900363 -87.696704   \n",
       "2                  Rush St & Hubbard St   KA1503000044  41.860384 -87.625813   \n",
       "3               Carpenter St & Huron St          13196  41.900363 -87.696704   \n",
       "4        Elizabeth (May) St & Fulton St          13197  41.900350 -87.696682   \n",
       "...                                 ...            ...        ...        ...   \n",
       "6722923  California Ave & Milwaukee Ave          13084  41.926633 -87.697727   \n",
       "6722926    California Ave & Division St          13256  41.926623 -87.697759   \n",
       "6722982           Wood St & Chicago Ave            637  41.892394 -87.676885   \n",
       "6723235    California Ave & Division St          13256  41.903029 -87.697474   \n",
       "6723699  California Ave & Milwaukee Ave          13084  41.895634 -87.672069   \n",
       "\n",
       "           end_lat    end_lng member_casual  ride_duration  \n",
       "0        41.899368 -87.648480        casual             35  \n",
       "1        41.889899 -87.671473        casual             18  \n",
       "2        41.890173 -87.626185        member             17  \n",
       "3        41.894556 -87.653449        member             15  \n",
       "4        41.886593 -87.658387        casual             19  \n",
       "...            ...        ...           ...            ...  \n",
       "6722923  41.922695 -87.697153        member              1  \n",
       "6722926  41.903029 -87.697474        casual              7  \n",
       "6722982  41.895634 -87.672069        member              3  \n",
       "6723235  41.903029 -87.697474        casual              1  \n",
       "6723699  41.922695 -87.697153        member             24  \n",
       "\n",
       "[5321551 rows x 14 columns]"
      ]
     },
     "execution_count": 28,
     "metadata": {},
     "output_type": "execute_result"
    }
   ],
   "source": [
    "#Because the mean values are quite similar so I don't see any problem dropping them and my further codes will be executed faster\n",
    "df = df.dropna()\n",
    "df"
   ]
  },
  {
   "cell_type": "code",
   "execution_count": 29,
   "metadata": {},
   "outputs": [
    {
     "data": {
      "text/html": [
       "<div>\n",
       "<style scoped>\n",
       "    .dataframe tbody tr th:only-of-type {\n",
       "        vertical-align: middle;\n",
       "    }\n",
       "\n",
       "    .dataframe tbody tr th {\n",
       "        vertical-align: top;\n",
       "    }\n",
       "\n",
       "    .dataframe thead th {\n",
       "        text-align: right;\n",
       "    }\n",
       "</style>\n",
       "<table border=\"1\" class=\"dataframe\">\n",
       "  <thead>\n",
       "    <tr style=\"text-align: right;\">\n",
       "      <th></th>\n",
       "      <th></th>\n",
       "      <th>count</th>\n",
       "      <th>mean</th>\n",
       "      <th>std</th>\n",
       "      <th>min</th>\n",
       "      <th>25%</th>\n",
       "      <th>50%</th>\n",
       "      <th>75%</th>\n",
       "      <th>max</th>\n",
       "    </tr>\n",
       "    <tr>\n",
       "      <th>rideable_type</th>\n",
       "      <th>member_casual</th>\n",
       "      <th></th>\n",
       "      <th></th>\n",
       "      <th></th>\n",
       "      <th></th>\n",
       "      <th></th>\n",
       "      <th></th>\n",
       "      <th></th>\n",
       "      <th></th>\n",
       "    </tr>\n",
       "  </thead>\n",
       "  <tbody>\n",
       "    <tr>\n",
       "      <th rowspan=\"2\" valign=\"top\">classic_bike</th>\n",
       "      <th>casual</th>\n",
       "      <td>1369428.0</td>\n",
       "      <td>24.481768</td>\n",
       "      <td>42.534202</td>\n",
       "      <td>-53.0</td>\n",
       "      <td>9.0</td>\n",
       "      <td>15.0</td>\n",
       "      <td>27.0</td>\n",
       "      <td>1499.0</td>\n",
       "    </tr>\n",
       "    <tr>\n",
       "      <th>member</th>\n",
       "      <td>2185126.0</td>\n",
       "      <td>12.740060</td>\n",
       "      <td>19.269697</td>\n",
       "      <td>-54.0</td>\n",
       "      <td>5.0</td>\n",
       "      <td>9.0</td>\n",
       "      <td>16.0</td>\n",
       "      <td>1492.0</td>\n",
       "    </tr>\n",
       "    <tr>\n",
       "      <th>docked_bike</th>\n",
       "      <th>casual</th>\n",
       "      <td>282652.0</td>\n",
       "      <td>61.905626</td>\n",
       "      <td>473.697613</td>\n",
       "      <td>-40.0</td>\n",
       "      <td>16.0</td>\n",
       "      <td>28.0</td>\n",
       "      <td>53.0</td>\n",
       "      <td>49107.0</td>\n",
       "    </tr>\n",
       "    <tr>\n",
       "      <th rowspan=\"2\" valign=\"top\">electric_bike</th>\n",
       "      <th>casual</th>\n",
       "      <td>666707.0</td>\n",
       "      <td>18.043659</td>\n",
       "      <td>19.875762</td>\n",
       "      <td>-127.0</td>\n",
       "      <td>7.0</td>\n",
       "      <td>12.0</td>\n",
       "      <td>21.0</td>\n",
       "      <td>480.0</td>\n",
       "    </tr>\n",
       "    <tr>\n",
       "      <th>member</th>\n",
       "      <td>817638.0</td>\n",
       "      <td>10.899015</td>\n",
       "      <td>11.806268</td>\n",
       "      <td>-129.0</td>\n",
       "      <td>5.0</td>\n",
       "      <td>8.0</td>\n",
       "      <td>14.0</td>\n",
       "      <td>478.0</td>\n",
       "    </tr>\n",
       "  </tbody>\n",
       "</table>\n",
       "</div>"
      ],
      "text/plain": [
       "                                 count       mean         std    min   25%  \\\n",
       "rideable_type member_casual                                                  \n",
       "classic_bike  casual         1369428.0  24.481768   42.534202  -53.0   9.0   \n",
       "              member         2185126.0  12.740060   19.269697  -54.0   5.0   \n",
       "docked_bike   casual          282652.0  61.905626  473.697613  -40.0  16.0   \n",
       "electric_bike casual          666707.0  18.043659   19.875762 -127.0   7.0   \n",
       "              member          817638.0  10.899015   11.806268 -129.0   5.0   \n",
       "\n",
       "                              50%   75%      max  \n",
       "rideable_type member_casual                       \n",
       "classic_bike  casual         15.0  27.0   1499.0  \n",
       "              member          9.0  16.0   1492.0  \n",
       "docked_bike   casual         28.0  53.0  49107.0  \n",
       "electric_bike casual         12.0  21.0    480.0  \n",
       "              member          8.0  14.0    478.0  "
      ]
     },
     "execution_count": 29,
     "metadata": {},
     "output_type": "execute_result"
    }
   ],
   "source": [
    "#let's search for outliers\n",
    "df.groupby(['rideable_type', 'member_casual'])['ride_duration'].describe()"
   ]
  },
  {
   "cell_type": "code",
   "execution_count": 30,
   "metadata": {},
   "outputs": [],
   "source": [
    "#filtering out the minus data\n",
    "no_minus_ride_data = df[(df['ride_duration']>0)]\n"
   ]
  },
  {
   "cell_type": "code",
   "execution_count": 31,
   "metadata": {},
   "outputs": [
    {
     "data": {
      "text/html": [
       "<div>\n",
       "<style scoped>\n",
       "    .dataframe tbody tr th:only-of-type {\n",
       "        vertical-align: middle;\n",
       "    }\n",
       "\n",
       "    .dataframe tbody tr th {\n",
       "        vertical-align: top;\n",
       "    }\n",
       "\n",
       "    .dataframe thead th {\n",
       "        text-align: right;\n",
       "    }\n",
       "</style>\n",
       "<table border=\"1\" class=\"dataframe\">\n",
       "  <thead>\n",
       "    <tr style=\"text-align: right;\">\n",
       "      <th></th>\n",
       "      <th></th>\n",
       "      <th>count</th>\n",
       "      <th>mean</th>\n",
       "      <th>std</th>\n",
       "      <th>min</th>\n",
       "      <th>25%</th>\n",
       "      <th>50%</th>\n",
       "      <th>75%</th>\n",
       "      <th>max</th>\n",
       "    </tr>\n",
       "    <tr>\n",
       "      <th>rideable_type</th>\n",
       "      <th>member_casual</th>\n",
       "      <th></th>\n",
       "      <th></th>\n",
       "      <th></th>\n",
       "      <th></th>\n",
       "      <th></th>\n",
       "      <th></th>\n",
       "      <th></th>\n",
       "      <th></th>\n",
       "    </tr>\n",
       "  </thead>\n",
       "  <tbody>\n",
       "    <tr>\n",
       "      <th rowspan=\"2\" valign=\"top\">classic_bike</th>\n",
       "      <th>casual</th>\n",
       "      <td>1353268.0</td>\n",
       "      <td>24.774377</td>\n",
       "      <td>42.702420</td>\n",
       "      <td>1.0</td>\n",
       "      <td>9.0</td>\n",
       "      <td>15.0</td>\n",
       "      <td>27.0</td>\n",
       "      <td>1499.0</td>\n",
       "    </tr>\n",
       "    <tr>\n",
       "      <th>member</th>\n",
       "      <td>2152582.0</td>\n",
       "      <td>12.932923</td>\n",
       "      <td>19.350114</td>\n",
       "      <td>1.0</td>\n",
       "      <td>5.0</td>\n",
       "      <td>9.0</td>\n",
       "      <td>16.0</td>\n",
       "      <td>1492.0</td>\n",
       "    </tr>\n",
       "    <tr>\n",
       "      <th>docked_bike</th>\n",
       "      <th>casual</th>\n",
       "      <td>280752.0</td>\n",
       "      <td>62.325230</td>\n",
       "      <td>475.270220</td>\n",
       "      <td>1.0</td>\n",
       "      <td>16.0</td>\n",
       "      <td>28.0</td>\n",
       "      <td>53.0</td>\n",
       "      <td>49107.0</td>\n",
       "    </tr>\n",
       "    <tr>\n",
       "      <th rowspan=\"2\" valign=\"top\">electric_bike</th>\n",
       "      <th>casual</th>\n",
       "      <td>656766.0</td>\n",
       "      <td>18.317448</td>\n",
       "      <td>19.898531</td>\n",
       "      <td>1.0</td>\n",
       "      <td>7.0</td>\n",
       "      <td>12.0</td>\n",
       "      <td>22.0</td>\n",
       "      <td>480.0</td>\n",
       "    </tr>\n",
       "    <tr>\n",
       "      <th>member</th>\n",
       "      <td>799927.0</td>\n",
       "      <td>11.140818</td>\n",
       "      <td>11.821176</td>\n",
       "      <td>1.0</td>\n",
       "      <td>5.0</td>\n",
       "      <td>8.0</td>\n",
       "      <td>14.0</td>\n",
       "      <td>478.0</td>\n",
       "    </tr>\n",
       "  </tbody>\n",
       "</table>\n",
       "</div>"
      ],
      "text/plain": [
       "                                 count       mean         std  min   25%  \\\n",
       "rideable_type member_casual                                                \n",
       "classic_bike  casual         1353268.0  24.774377   42.702420  1.0   9.0   \n",
       "              member         2152582.0  12.932923   19.350114  1.0   5.0   \n",
       "docked_bike   casual          280752.0  62.325230  475.270220  1.0  16.0   \n",
       "electric_bike casual          656766.0  18.317448   19.898531  1.0   7.0   \n",
       "              member          799927.0  11.140818   11.821176  1.0   5.0   \n",
       "\n",
       "                              50%   75%      max  \n",
       "rideable_type member_casual                       \n",
       "classic_bike  casual         15.0  27.0   1499.0  \n",
       "              member          9.0  16.0   1492.0  \n",
       "docked_bike   casual         28.0  53.0  49107.0  \n",
       "electric_bike casual         12.0  22.0    480.0  \n",
       "              member          8.0  14.0    478.0  "
      ]
     },
     "execution_count": 31,
     "metadata": {},
     "output_type": "execute_result"
    }
   ],
   "source": [
    "no_minus_ride_data.groupby(['rideable_type','member_casual'])['ride_duration'].describe()"
   ]
  },
  {
   "cell_type": "markdown",
   "metadata": {},
   "source": [
    "** My hypothesis: The company is charging the single ride of a full day pass but I believe nobody rents a bike for a second or a minute. It must be at least 10 minutes, and even if a customer bought a day pass, doesn't mean that you would ride a bike for 24 hours just because you paid for it. Therefore, I have filtered out the duration of the ride between 10 minutes and 10 hours."
   ]
  },
  {
   "cell_type": "code",
   "execution_count": 32,
   "metadata": {},
   "outputs": [
    {
     "data": {
      "text/html": [
       "<div>\n",
       "<style scoped>\n",
       "    .dataframe tbody tr th:only-of-type {\n",
       "        vertical-align: middle;\n",
       "    }\n",
       "\n",
       "    .dataframe tbody tr th {\n",
       "        vertical-align: top;\n",
       "    }\n",
       "\n",
       "    .dataframe thead th {\n",
       "        text-align: right;\n",
       "    }\n",
       "</style>\n",
       "<table border=\"1\" class=\"dataframe\">\n",
       "  <thead>\n",
       "    <tr style=\"text-align: right;\">\n",
       "      <th></th>\n",
       "      <th></th>\n",
       "      <th>count</th>\n",
       "      <th>mean</th>\n",
       "      <th>std</th>\n",
       "      <th>min</th>\n",
       "      <th>25%</th>\n",
       "      <th>50%</th>\n",
       "      <th>75%</th>\n",
       "      <th>max</th>\n",
       "    </tr>\n",
       "    <tr>\n",
       "      <th>rideable_type</th>\n",
       "      <th>member_casual</th>\n",
       "      <th></th>\n",
       "      <th></th>\n",
       "      <th></th>\n",
       "      <th></th>\n",
       "      <th></th>\n",
       "      <th></th>\n",
       "      <th></th>\n",
       "      <th></th>\n",
       "    </tr>\n",
       "  </thead>\n",
       "  <tbody>\n",
       "    <tr>\n",
       "      <th rowspan=\"2\" valign=\"top\">classic_bike</th>\n",
       "      <th>casual</th>\n",
       "      <td>964790.0</td>\n",
       "      <td>30.929548</td>\n",
       "      <td>32.618205</td>\n",
       "      <td>10.0</td>\n",
       "      <td>14.0</td>\n",
       "      <td>21.0</td>\n",
       "      <td>34.0</td>\n",
       "      <td>600.0</td>\n",
       "    </tr>\n",
       "    <tr>\n",
       "      <th>member</th>\n",
       "      <td>1049555.0</td>\n",
       "      <td>20.470853</td>\n",
       "      <td>15.565949</td>\n",
       "      <td>10.0</td>\n",
       "      <td>12.0</td>\n",
       "      <td>17.0</td>\n",
       "      <td>24.0</td>\n",
       "      <td>600.0</td>\n",
       "    </tr>\n",
       "    <tr>\n",
       "      <th>docked_bike</th>\n",
       "      <th>casual</th>\n",
       "      <td>249548.0</td>\n",
       "      <td>48.708128</td>\n",
       "      <td>51.527462</td>\n",
       "      <td>10.0</td>\n",
       "      <td>19.0</td>\n",
       "      <td>30.0</td>\n",
       "      <td>58.0</td>\n",
       "      <td>600.0</td>\n",
       "    </tr>\n",
       "    <tr>\n",
       "      <th rowspan=\"2\" valign=\"top\">electric_bike</th>\n",
       "      <th>casual</th>\n",
       "      <td>405003.0</td>\n",
       "      <td>26.043177</td>\n",
       "      <td>21.986278</td>\n",
       "      <td>10.0</td>\n",
       "      <td>13.0</td>\n",
       "      <td>18.0</td>\n",
       "      <td>30.0</td>\n",
       "      <td>480.0</td>\n",
       "    </tr>\n",
       "    <tr>\n",
       "      <th>member</th>\n",
       "      <td>341978.0</td>\n",
       "      <td>18.902026</td>\n",
       "      <td>14.656328</td>\n",
       "      <td>10.0</td>\n",
       "      <td>12.0</td>\n",
       "      <td>15.0</td>\n",
       "      <td>21.0</td>\n",
       "      <td>478.0</td>\n",
       "    </tr>\n",
       "  </tbody>\n",
       "</table>\n",
       "</div>"
      ],
      "text/plain": [
       "                                 count       mean        std   min   25%  \\\n",
       "rideable_type member_casual                                                \n",
       "classic_bike  casual          964790.0  30.929548  32.618205  10.0  14.0   \n",
       "              member         1049555.0  20.470853  15.565949  10.0  12.0   \n",
       "docked_bike   casual          249548.0  48.708128  51.527462  10.0  19.0   \n",
       "electric_bike casual          405003.0  26.043177  21.986278  10.0  13.0   \n",
       "              member          341978.0  18.902026  14.656328  10.0  12.0   \n",
       "\n",
       "                              50%   75%    max  \n",
       "rideable_type member_casual                     \n",
       "classic_bike  casual         21.0  34.0  600.0  \n",
       "              member         17.0  24.0  600.0  \n",
       "docked_bike   casual         30.0  58.0  600.0  \n",
       "electric_bike casual         18.0  30.0  480.0  \n",
       "              member         15.0  21.0  478.0  "
      ]
     },
     "execution_count": 32,
     "metadata": {},
     "output_type": "execute_result"
    }
   ],
   "source": [
    "ten_minutes_ten_hours_data = df[(df['ride_duration']>=10) & (df['ride_duration']<=600)]\n",
    "ten_minutes_ten_hours_data.groupby(['rideable_type', 'member_casual'])['ride_duration'].describe()\n"
   ]
  },
  {
   "cell_type": "markdown",
   "metadata": {},
   "source": [
    "What happens when I exceed to 5 minutes?"
   ]
  },
  {
   "cell_type": "code",
   "execution_count": 33,
   "metadata": {},
   "outputs": [
    {
     "data": {
      "text/html": [
       "<div>\n",
       "<style scoped>\n",
       "    .dataframe tbody tr th:only-of-type {\n",
       "        vertical-align: middle;\n",
       "    }\n",
       "\n",
       "    .dataframe tbody tr th {\n",
       "        vertical-align: top;\n",
       "    }\n",
       "\n",
       "    .dataframe thead th {\n",
       "        text-align: right;\n",
       "    }\n",
       "</style>\n",
       "<table border=\"1\" class=\"dataframe\">\n",
       "  <thead>\n",
       "    <tr style=\"text-align: right;\">\n",
       "      <th></th>\n",
       "      <th></th>\n",
       "      <th>count</th>\n",
       "      <th>mean</th>\n",
       "      <th>std</th>\n",
       "      <th>min</th>\n",
       "      <th>25%</th>\n",
       "      <th>50%</th>\n",
       "      <th>75%</th>\n",
       "      <th>max</th>\n",
       "    </tr>\n",
       "    <tr>\n",
       "      <th>rideable_type</th>\n",
       "      <th>member_casual</th>\n",
       "      <th></th>\n",
       "      <th></th>\n",
       "      <th></th>\n",
       "      <th></th>\n",
       "      <th></th>\n",
       "      <th></th>\n",
       "      <th></th>\n",
       "      <th></th>\n",
       "    </tr>\n",
       "  </thead>\n",
       "  <tbody>\n",
       "    <tr>\n",
       "      <th rowspan=\"2\" valign=\"top\">classic_bike</th>\n",
       "      <th>casual</th>\n",
       "      <td>1255041.0</td>\n",
       "      <td>25.418282</td>\n",
       "      <td>30.319960</td>\n",
       "      <td>5.0</td>\n",
       "      <td>10.0</td>\n",
       "      <td>16.0</td>\n",
       "      <td>29.0</td>\n",
       "      <td>600.0</td>\n",
       "    </tr>\n",
       "    <tr>\n",
       "      <th>member</th>\n",
       "      <td>1730699.0</td>\n",
       "      <td>15.105700</td>\n",
       "      <td>13.858768</td>\n",
       "      <td>5.0</td>\n",
       "      <td>7.0</td>\n",
       "      <td>11.0</td>\n",
       "      <td>19.0</td>\n",
       "      <td>600.0</td>\n",
       "    </tr>\n",
       "    <tr>\n",
       "      <th>docked_bike</th>\n",
       "      <th>casual</th>\n",
       "      <td>272852.0</td>\n",
       "      <td>45.169649</td>\n",
       "      <td>50.621624</td>\n",
       "      <td>5.0</td>\n",
       "      <td>17.0</td>\n",
       "      <td>28.0</td>\n",
       "      <td>54.0</td>\n",
       "      <td>600.0</td>\n",
       "    </tr>\n",
       "    <tr>\n",
       "      <th rowspan=\"2\" valign=\"top\">electric_bike</th>\n",
       "      <th>casual</th>\n",
       "      <td>586201.0</td>\n",
       "      <td>20.155155</td>\n",
       "      <td>20.299404</td>\n",
       "      <td>5.0</td>\n",
       "      <td>8.0</td>\n",
       "      <td>13.0</td>\n",
       "      <td>23.0</td>\n",
       "      <td>480.0</td>\n",
       "    </tr>\n",
       "    <tr>\n",
       "      <th>member</th>\n",
       "      <td>624057.0</td>\n",
       "      <td>13.445921</td>\n",
       "      <td>12.437287</td>\n",
       "      <td>5.0</td>\n",
       "      <td>7.0</td>\n",
       "      <td>10.0</td>\n",
       "      <td>16.0</td>\n",
       "      <td>478.0</td>\n",
       "    </tr>\n",
       "  </tbody>\n",
       "</table>\n",
       "</div>"
      ],
      "text/plain": [
       "                                 count       mean        std  min   25%   50%  \\\n",
       "rideable_type member_casual                                                     \n",
       "classic_bike  casual         1255041.0  25.418282  30.319960  5.0  10.0  16.0   \n",
       "              member         1730699.0  15.105700  13.858768  5.0   7.0  11.0   \n",
       "docked_bike   casual          272852.0  45.169649  50.621624  5.0  17.0  28.0   \n",
       "electric_bike casual          586201.0  20.155155  20.299404  5.0   8.0  13.0   \n",
       "              member          624057.0  13.445921  12.437287  5.0   7.0  10.0   \n",
       "\n",
       "                              75%    max  \n",
       "rideable_type member_casual               \n",
       "classic_bike  casual         29.0  600.0  \n",
       "              member         19.0  600.0  \n",
       "docked_bike   casual         54.0  600.0  \n",
       "electric_bike casual         23.0  480.0  \n",
       "              member         16.0  478.0  "
      ]
     },
     "execution_count": 33,
     "metadata": {},
     "output_type": "execute_result"
    }
   ],
   "source": [
    "five_minutes_ten_hours_data = df[(df['ride_duration']>=5) & (df['ride_duration']<=600)]\n",
    "five_minutes_ten_hours_data.groupby(['rideable_type', 'member_casual'])['ride_duration'].describe()\n"
   ]
  },
  {
   "cell_type": "markdown",
   "metadata": {},
   "source": [
    "Hmm... The ride number has almost doubled for the electric bike member riders and for the classic bike member size increased by 70 percent. Most member-type users prefer to have short rides."
   ]
  },
  {
   "cell_type": "markdown",
   "metadata": {},
   "source": [
    "What if I exceed the number until 1 minute?"
   ]
  },
  {
   "cell_type": "code",
   "execution_count": 34,
   "metadata": {},
   "outputs": [
    {
     "data": {
      "text/html": [
       "<div>\n",
       "<style scoped>\n",
       "    .dataframe tbody tr th:only-of-type {\n",
       "        vertical-align: middle;\n",
       "    }\n",
       "\n",
       "    .dataframe tbody tr th {\n",
       "        vertical-align: top;\n",
       "    }\n",
       "\n",
       "    .dataframe thead th {\n",
       "        text-align: right;\n",
       "    }\n",
       "</style>\n",
       "<table border=\"1\" class=\"dataframe\">\n",
       "  <thead>\n",
       "    <tr style=\"text-align: right;\">\n",
       "      <th></th>\n",
       "      <th></th>\n",
       "      <th>count</th>\n",
       "      <th>mean</th>\n",
       "      <th>std</th>\n",
       "      <th>min</th>\n",
       "      <th>25%</th>\n",
       "      <th>50%</th>\n",
       "      <th>75%</th>\n",
       "      <th>max</th>\n",
       "    </tr>\n",
       "    <tr>\n",
       "      <th>rideable_type</th>\n",
       "      <th>member_casual</th>\n",
       "      <th></th>\n",
       "      <th></th>\n",
       "      <th></th>\n",
       "      <th></th>\n",
       "      <th></th>\n",
       "      <th></th>\n",
       "      <th></th>\n",
       "      <th></th>\n",
       "    </tr>\n",
       "  </thead>\n",
       "  <tbody>\n",
       "    <tr>\n",
       "      <th rowspan=\"2\" valign=\"top\">classic_bike</th>\n",
       "      <th>casual</th>\n",
       "      <td>1351841.0</td>\n",
       "      <td>23.814095</td>\n",
       "      <td>29.781086</td>\n",
       "      <td>1.0</td>\n",
       "      <td>9.0</td>\n",
       "      <td>15.0</td>\n",
       "      <td>27.0</td>\n",
       "      <td>600.0</td>\n",
       "    </tr>\n",
       "    <tr>\n",
       "      <th>member</th>\n",
       "      <td>2152100.0</td>\n",
       "      <td>12.729769</td>\n",
       "      <td>13.335161</td>\n",
       "      <td>1.0</td>\n",
       "      <td>5.0</td>\n",
       "      <td>9.0</td>\n",
       "      <td>16.0</td>\n",
       "      <td>600.0</td>\n",
       "    </tr>\n",
       "    <tr>\n",
       "      <th>docked_bike</th>\n",
       "      <th>casual</th>\n",
       "      <td>278927.0</td>\n",
       "      <td>44.247441</td>\n",
       "      <td>50.447613</td>\n",
       "      <td>1.0</td>\n",
       "      <td>16.0</td>\n",
       "      <td>28.0</td>\n",
       "      <td>52.0</td>\n",
       "      <td>600.0</td>\n",
       "    </tr>\n",
       "    <tr>\n",
       "      <th rowspan=\"2\" valign=\"top\">electric_bike</th>\n",
       "      <th>casual</th>\n",
       "      <td>656766.0</td>\n",
       "      <td>18.317448</td>\n",
       "      <td>19.898531</td>\n",
       "      <td>1.0</td>\n",
       "      <td>7.0</td>\n",
       "      <td>12.0</td>\n",
       "      <td>22.0</td>\n",
       "      <td>480.0</td>\n",
       "    </tr>\n",
       "    <tr>\n",
       "      <th>member</th>\n",
       "      <td>799927.0</td>\n",
       "      <td>11.140818</td>\n",
       "      <td>11.821176</td>\n",
       "      <td>1.0</td>\n",
       "      <td>5.0</td>\n",
       "      <td>8.0</td>\n",
       "      <td>14.0</td>\n",
       "      <td>478.0</td>\n",
       "    </tr>\n",
       "  </tbody>\n",
       "</table>\n",
       "</div>"
      ],
      "text/plain": [
       "                                 count       mean        std  min   25%   50%  \\\n",
       "rideable_type member_casual                                                     \n",
       "classic_bike  casual         1351841.0  23.814095  29.781086  1.0   9.0  15.0   \n",
       "              member         2152100.0  12.729769  13.335161  1.0   5.0   9.0   \n",
       "docked_bike   casual          278927.0  44.247441  50.447613  1.0  16.0  28.0   \n",
       "electric_bike casual          656766.0  18.317448  19.898531  1.0   7.0  12.0   \n",
       "              member          799927.0  11.140818  11.821176  1.0   5.0   8.0   \n",
       "\n",
       "                              75%    max  \n",
       "rideable_type member_casual               \n",
       "classic_bike  casual         27.0  600.0  \n",
       "              member         16.0  600.0  \n",
       "docked_bike   casual         52.0  600.0  \n",
       "electric_bike casual         22.0  480.0  \n",
       "              member         14.0  478.0  "
      ]
     },
     "execution_count": 34,
     "metadata": {},
     "output_type": "execute_result"
    }
   ],
   "source": [
    "one_minutes_ten_hours_data = df[(df['ride_duration']>=1) & (df['ride_duration']<=600)]\n",
    "one_minutes_ten_hours_data.groupby(['rideable_type', 'member_casual'])['ride_duration'].describe()\n"
   ]
  },
  {
   "cell_type": "markdown",
   "metadata": {},
   "source": [
    "- As soon as I started the trip duration time to 5 minutes then 1 minute the data frame for both member and causal riders number has been doubled up for electric, and classic bike rides. Therefore, members prefer to have less than 10-minute rides.\n",
    "\n",
    "-When I increased the filter from one hour to ten hours maximum rides for electric bike users couldn't reach the top, and for casual riders the number stayed around 400 minutes, and for members, it stayed around 480 minutes. Probably because of the battery lifespan of each bike. "
   ]
  },
  {
   "cell_type": "markdown",
   "metadata": {},
   "source": [
    "- Docked bikes are the bikes that have been used by the nonmember community and are the most problematic and the least used ones compare to the other types of bikes.\n",
    "** I wish I had the profit margin data for each type of bike so I could judge them better. However, I would slowly dispose of the docked bikes from the fleet, and more classic and electric bikes because people tend to prefer them over docked bikes.\n",
    "**Since the objective is finding the pattern difference or a pattern between member and casula riders in how they use the bikes, I believe I find some quite usable information about them.\n",
    "\n",
    "-Most of the trips that have taken place was between 1 to 10 minutes among both types of users. "
   ]
  },
  {
   "cell_type": "markdown",
   "metadata": {},
   "source": [
    "# What if I want to see the monthly and daily trip numbers?"
   ]
  },
  {
   "cell_type": "code",
   "execution_count": 35,
   "metadata": {},
   "outputs": [],
   "source": [
    "data = df[(df['ride_duration']>=1) & (df['ride_duration']<=600)]\n"
   ]
  },
  {
   "cell_type": "code",
   "execution_count": 36,
   "metadata": {},
   "outputs": [
    {
     "name": "stderr",
     "output_type": "stream",
     "text": [
      "C:\\Users\\Can PC\\AppData\\Local\\Temp\\ipykernel_12800\\4012068152.py:2: SettingWithCopyWarning: \n",
      "A value is trying to be set on a copy of a slice from a DataFrame.\n",
      "Try using .loc[row_indexer,col_indexer] = value instead\n",
      "\n",
      "See the caveats in the documentation: https://pandas.pydata.org/pandas-docs/stable/user_guide/indexing.html#returning-a-view-versus-a-copy\n",
      "  data['month'] = data['started_at'].dt.month_name()\n"
     ]
    }
   ],
   "source": [
    "#adding the month name value\n",
    "data['month'] = data['started_at'].dt.month_name()\n"
   ]
  },
  {
   "cell_type": "code",
   "execution_count": 37,
   "metadata": {},
   "outputs": [
    {
     "name": "stderr",
     "output_type": "stream",
     "text": [
      "C:\\Users\\Can PC\\AppData\\Local\\Temp\\ipykernel_12800\\2820717834.py:1: SettingWithCopyWarning: \n",
      "A value is trying to be set on a copy of a slice from a DataFrame.\n",
      "Try using .loc[row_indexer,col_indexer] = value instead\n",
      "\n",
      "See the caveats in the documentation: https://pandas.pydata.org/pandas-docs/stable/user_guide/indexing.html#returning-a-view-versus-a-copy\n",
      "  data['day'] = data['started_at'].dt.day_name()\n"
     ]
    }
   ],
   "source": [
    "data['day'] = data['started_at'].dt.day_name()\n"
   ]
  },
  {
   "cell_type": "code",
   "execution_count": 38,
   "metadata": {},
   "outputs": [
    {
     "data": {
      "text/plain": [
       "classic_bike     3503941\n",
       "electric_bike    1456693\n",
       "docked_bike       278927\n",
       "Name: rideable_type, dtype: int64"
      ]
     },
     "execution_count": 38,
     "metadata": {},
     "output_type": "execute_result"
    }
   ],
   "source": [
    "data.rideable_type.value_counts()"
   ]
  },
  {
   "cell_type": "markdown",
   "metadata": {},
   "source": [
    "# I tried to write the data in xlsx format and do the visualization in Tableau but the size is too big so I decided to do research and how to visualize it in python."
   ]
  },
  {
   "cell_type": "code",
   "execution_count": 39,
   "metadata": {},
   "outputs": [],
   "source": [
    "import matplotlib.pyplot as plt\n",
    "import seaborn as sns\n",
    "\n",
    "\n"
   ]
  },
  {
   "cell_type": "code",
   "execution_count": 70,
   "metadata": {},
   "outputs": [
    {
     "data": {
      "text/plain": [
       "Text(0.5, 0, 'Total Trip Numbers in Million')"
      ]
     },
     "execution_count": 70,
     "metadata": {},
     "output_type": "execute_result"
    },
    {
     "data": {
      "image/png": "[encoded data removed]",
      "text/plain": [
       "<Figure size 1080x720 with 1 Axes>"
      ]
     },
     "metadata": {
      "needs_background": "light"
     },
     "output_type": "display_data"
    }
   ],
   "source": [
    "data.member_casual.value_counts().plot(kind='barh',figsize=(15,10),title='Rider Type Count')\n",
    "plt.xlabel('Total Trip Numbers in Million')"
   ]
  },
  {
   "cell_type": "markdown",
   "metadata": {},
   "source": [
    "Members have used the service more than casual riders"
   ]
  },
  {
   "cell_type": "code",
   "execution_count": 78,
   "metadata": {},
   "outputs": [
    {
     "data": {
      "text/plain": [
       "Text(0.5, 0, 'Bike and Member Types')"
      ]
     },
     "execution_count": 78,
     "metadata": {},
     "output_type": "execute_result"
    },
    {
     "data": {
      "image/png": "[encoded data removed]",
      "text/plain": [
       "<Figure size 864x360 with 1 Axes>"
      ]
     },
     "metadata": {
      "needs_background": "light"
     },
     "output_type": "display_data"
    }
   ],
   "source": [
    "from numpy import size\n",
    "\n",
    "\n",
    "data.groupby(['member_casual','rideable_type'])['ride_duration'].mean().plot(figsize=(12,5),title='Average Ride Per Bike and Member Type')\n",
    "plt.ylabel('Average Ride Duration in Minutes',size=15)\n",
    "plt.xlabel('Bike and Member Types',size=20)"
   ]
  },
  {
   "cell_type": "markdown",
   "metadata": {},
   "source": [
    "- Most prefered bike is the docked bike by the casual riders\n",
    "- Second best is the classic bike rides, again by the casual riders \n",
    "- Electric bikes are the least favorable among other types"
   ]
  },
  {
   "cell_type": "markdown",
   "metadata": {},
   "source": [
    "Casual riders tend to use the bikes for a longer period of time because of the pricing model. Remember, company's charging model is a single ride or a full-day pass among casual riders but for the members there is no information about the charging policy. \n"
   ]
  },
  {
   "cell_type": "code",
   "execution_count": 87,
   "metadata": {},
   "outputs": [
    {
     "data": {
      "text/plain": [
       "Text(0, 0.5, 'Total Ride Numbers')"
      ]
     },
     "execution_count": 87,
     "metadata": {},
     "output_type": "execute_result"
    },
    {
     "data": {
      "image/png": "[encoded data removed]",
      "text/plain": [
       "<Figure size 1080x720 with 1 Axes>"
      ]
     },
     "metadata": {
      "needs_background": "light"
     },
     "output_type": "display_data"
    }
   ],
   "source": [
    "data.groupby('day')['ride_id'].count().reindex(['Monday','Tuesday','Wednesday','Thursday','Friday','Saturday','Sunday']).plot(figsize=(15,10))\n",
    "plt.title('Usage Per Day', size=20)\n",
    "plt.xlabel('Days',size=15)\n",
    "plt.ylabel('Total Ride Numbers',size=15)\n"
   ]
  },
  {
   "cell_type": "markdown",
   "metadata": {},
   "source": [
    "As I hypothesised, people use bikes during the weekends the most, especially it peaks on Saturdays. But I have to see the rider's type before I come to cunclusion.\n"
   ]
  },
  {
   "cell_type": "code",
   "execution_count": 93,
   "metadata": {},
   "outputs": [
    {
     "data": {
      "text/plain": [
       "Text(0, 0.5, 'Total Ride Numbers')"
      ]
     },
     "execution_count": 93,
     "metadata": {},
     "output_type": "execute_result"
    },
    {
     "data": {
      "image/png": "[encoded data removed]",
      "text/plain": [
       "<Figure size 1080x720 with 1 Axes>"
      ]
     },
     "metadata": {
      "needs_background": "light"
     },
     "output_type": "display_data"
    }
   ],
   "source": [
    "data.pivot_table(index= 'day',columns=['member_casual'],aggfunc={'ride_id':'count'}).reindex(['Monday','Tuesday','Wednesday','Thursday','Friday','Saturday','Sunday']).plot(figsize=(15,10))\n",
    "plt.title('Usage Per Day by Rider Types', size=20)\n",
    "plt.xlabel('Days',size=15)\n",
    "plt.ylabel('Total Ride Numbers',size=15)"
   ]
  },
  {
   "cell_type": "markdown",
   "metadata": {},
   "source": [
    "- Members prefer to use the service during the weekdays\n",
    "- Contrast to that casual riders prefer the weekends. Especially Saturdays.\n",
    "\n",
    "My conclusion about the customer profile is members are working class people who prefer to take a bike ride to go to the work, and tend to stay at home during the weekends.\n",
    "Casual riders are students or tourist who "
   ]
  },
  {
   "cell_type": "code",
   "execution_count": 116,
   "metadata": {},
   "outputs": [
    {
     "data": {
      "text/plain": [
       "Text(5, 32, 'Ride duration peaks with the warm and sunny weathers')"
      ]
     },
     "execution_count": 116,
     "metadata": {},
     "output_type": "execute_result"
    },
    {
     "data": {
      "image/png": "[encoded data removed]",
      "text/plain": [
       "<Figure size 1440x720 with 1 Axes>"
      ]
     },
     "metadata": {
      "needs_background": "light"
     },
     "output_type": "display_data"
    }
   ],
   "source": [
    "data.pivot_table(index=['month'], columns = ['rideable_type', 'member_casual'], aggfunc={'ride_duration':'mean'}).reindex(['January','February','March','April','May','June','July','August','September','October','November','December']).plot(figsize=(20,10))\n",
    "plt.xlabel('Month')\n",
    "plt.ylabel('Average ride duration')\n",
    "\n",
    "\n",
    "plt.title('Ride Duration Comparison by month')\n",
    "plt.text(5,32,'Ride duration peaks with the warm and sunny weathers')"
   ]
  },
  {
   "cell_type": "code",
   "execution_count": 128,
   "metadata": {},
   "outputs": [
    {
     "data": {
      "text/plain": [
       "Text(0.5, 1.0, 'Ride Duration Comparison by Day and Bike Types')"
      ]
     },
     "execution_count": 128,
     "metadata": {},
     "output_type": "execute_result"
    },
    {
     "data": {
      "image/png": "[encoded data removed]",
      "text/plain": [
       "<Figure size 1440x720 with 1 Axes>"
      ]
     },
     "metadata": {
      "needs_background": "light"
     },
     "output_type": "display_data"
    }
   ],
   "source": [
    "data.pivot_table(index=['day'], columns = ['rideable_type', 'member_casual'], aggfunc={'ride_duration':'mean'}).reindex(['Monday','Tuesday','Wednesday','Thursday','Friday','Saturday','Sunday']).plot(kind = 'bar',figsize=(20,10))\n",
    "plt.gca().set_xticklabels(['Mon', 'Tues', 'Wed', 'Thurs', 'Fri', 'Sat', 'Sun'])\n",
    "plt.xlabel('Day')\n",
    "plt.ylabel('Average ride duration')\n",
    "\n",
    "\n",
    "plt.title('Ride Duration Comparison by Day and Bike Types')\n"
   ]
  },
  {
   "cell_type": "markdown",
   "metadata": {},
   "source": [
    "- Docked bikes are the most preferred by casual riders and average time per ride beats all the other bike types.\n",
    "- Casual riders have a longer rides because of the pricing policy."
   ]
  },
  {
   "cell_type": "code",
   "execution_count": 112,
   "metadata": {},
   "outputs": [],
   "source": [
    "casual_data = data[data['member_casual']=='casual']"
   ]
  },
  {
   "cell_type": "code",
   "execution_count": 117,
   "metadata": {},
   "outputs": [
    {
     "data": {
      "text/plain": [
       "Text(5, 32, 'Casual riders prefer weekends and warmer seasons')"
      ]
     },
     "execution_count": 117,
     "metadata": {},
     "output_type": "execute_result"
    },
    {
     "data": {
      "image/png": "[encoded data removed]",
      "text/plain": [
       "<Figure size 1080x720 with 1 Axes>"
      ]
     },
     "metadata": {
      "needs_background": "light"
     },
     "output_type": "display_data"
    }
   ],
   "source": [
    "\n",
    "\n",
    "\n",
    "casual_data.pivot_table(index='month',columns='day',aggfunc={'ride_id':'count'}).reindex(['January','February','March','April','May','June','July','August','September','October','November','December']).plot(kind='bar',figsize=(15,10))\n",
    "\n",
    "plt.xlabel('Month')\n",
    "plt.ylabel('Total Trip Numbers')\n",
    "\n",
    "\n",
    "plt.title('Casual Rides Per Day by the Months')\n",
    "plt.text(5,32,'Casual riders prefer weekends and warmer seasons')"
   ]
  },
  {
   "cell_type": "markdown",
   "metadata": {},
   "source": [
    "- Casual riders are seasonal customer types and they prefer weekends and warmer seasons"
   ]
  },
  {
   "cell_type": "code",
   "execution_count": 119,
   "metadata": {},
   "outputs": [],
   "source": [
    "member_data = data[data['member_casual']=='member']"
   ]
  },
  {
   "cell_type": "code",
   "execution_count": 125,
   "metadata": {},
   "outputs": [
    {
     "data": {
      "text/plain": [
       "Text(5, 50, 'Casual riders prefer weekends and warmer seasons')"
      ]
     },
     "execution_count": 125,
     "metadata": {},
     "output_type": "execute_result"
    },
    {
     "data": {
      "image/png": "[encoded data removed]",
      "text/plain": [
       "<Figure size 1080x720 with 1 Axes>"
      ]
     },
     "metadata": {
      "needs_background": "light"
     },
     "output_type": "display_data"
    }
   ],
   "source": [
    "\n",
    "\n",
    "\n",
    "member_data.pivot_table(index='month',columns='day',aggfunc={'ride_id':'count'}).reindex(['January','February','March','April','May','June','July','August','September','October','November','December']).plot(kind='bar',figsize=(15,10))\n",
    "\n",
    "plt.xlabel('Month')\n",
    "plt.ylabel('Total Trip Numbers')\n",
    "\n",
    "\n",
    "plt.title('Member Rides Per Day by the Months')\n"
   ]
  },
  {
   "cell_type": "markdown",
   "metadata": {},
   "source": [
    "\n",
    "- Members are using the bikes all of the year and they prefer using the service during the weekdays. However, during the weekends in July they also prefer the weekends more."
   ]
  },
  {
   "cell_type": "markdown",
   "metadata": {},
   "source": [
    "** Recommendations\n",
    "\n",
    "To convert casual riders into annual members, the following marketing strategies can be applied:\n",
    "\n",
    "- Rental duration problem of classic and especially docked bikes needs to be investigated deeply.\n",
    "- Offering membership discounts to casual riders in spring, and on Fridays for the following weekend would increase the probability of attracting more casual riders into members. By offering a free full-day trip by SMS, I am assuming customers need to provide either an email or phone number to rent a bike.\n",
    "- Offering seasonal packages would help to convert casual riders since they are interested in using the service in the spring and mostly summertime. Because nobody wants to pay the annual subscription for a service that they don't require all the time.\n",
    "- Or increasing the renting price of the bikes for the weekends for casual riders, especially for docked and classic bikes, since they are preferred more by casual users.\n",
    "- Putting special discount offers at stations or on bikes would target casual users which might influence them to become members."
   ]
  }
 ],
 "metadata": {
  "kernelspec": {
   "display_name": "Python 3.10.0 64-bit",
   "language": "python",
   "name": "python3"
  },
  "language_info": {
   "codemirror_mode": {
    "name": "ipython",
    "version": 3
   },
   "file_extension": ".py",
   "mimetype": "text/x-python",
   "name": "python",
   "nbconvert_exporter": "python",
   "pygments_lexer": "ipython3",
   "version": "3.10.0"
  },
  "orig_nbformat": 4,
  "vscode": {
   "interpreter": {
    "hash": "7f081b9cd498cf5a0a7e4fe3bc01a0e29cffdd7b405e493112afa76c668aa95d"
   }
  }
 },
 "nbformat": 4,
 "nbformat_minor": 2
}
